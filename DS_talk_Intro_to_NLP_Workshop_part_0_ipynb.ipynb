{
  "nbformat": 4,
  "nbformat_minor": 0,
  "metadata": {
    "colab": {
      "name": "DS talk-Intro to NLP Workshop part 0.ipynb.ipynb",
      "provenance": [],
      "authorship_tag": "ABX9TyMww6uCBTCIHncH4l/59R/l",
      "include_colab_link": true
    },
    "kernelspec": {
      "name": "python3",
      "display_name": "Python 3"
    },
    "language_info": {
      "name": "python"
    }
  },
  "cells": [
    {
      "cell_type": "markdown",
      "metadata": {
        "id": "view-in-github",
        "colab_type": "text"
      },
      "source": [
        "<a href=\"https://colab.research.google.com/github/preenet/ds_talk_nlp/blob/main/DS_talk_Intro_to_NLP_Workshop_part_0_ipynb.ipynb\" target=\"_parent\"><img src=\"https://colab.research.google.com/assets/colab-badge.svg\" alt=\"Open In Colab\"/></a>"
      ]
    },
    {
      "cell_type": "markdown",
      "metadata": {
        "id": "1cQ7lNJmZ4Bw"
      },
      "source": [
        "# Notebook used in DS-talk 10/13/2021"
      ]
    },
    {
      "cell_type": "code",
      "metadata": {
        "id": "BGd7U_ljXTcc"
      },
      "source": [
        "txt1 = 'The Radical Left Democrats will never be satisfied with anything we give them. They will always Resist and Obstruct!'"
      ],
      "execution_count": 2,
      "outputs": []
    },
    {
      "cell_type": "code",
      "metadata": {
        "colab": {
          "base_uri": "https://localhost:8080/"
        },
        "id": "3v9j9klSXiJ5",
        "outputId": "c29f0ec3-a21b-4983-a976-faa4156bf8f9"
      },
      "source": [
        "len(txt1)"
      ],
      "execution_count": 3,
      "outputs": [
        {
          "output_type": "execute_result",
          "data": {
            "text/plain": [
              "116"
            ]
          },
          "metadata": {},
          "execution_count": 3
        }
      ]
    },
    {
      "cell_type": "code",
      "metadata": {
        "colab": {
          "base_uri": "https://localhost:8080/"
        },
        "id": "FFuT8AzXXouP",
        "outputId": "9873fa68-c2de-4c5a-f23f-f76ed6c295f3"
      },
      "source": [
        "txt2 = txt1.split(' ');\n",
        "txt2"
      ],
      "execution_count": 4,
      "outputs": [
        {
          "output_type": "execute_result",
          "data": {
            "text/plain": [
              "['The',\n",
              " 'Radical',\n",
              " 'Left',\n",
              " 'Democrats',\n",
              " 'will',\n",
              " 'never',\n",
              " 'be',\n",
              " 'satisfied',\n",
              " 'with',\n",
              " 'anything',\n",
              " 'we',\n",
              " 'give',\n",
              " 'them.',\n",
              " 'They',\n",
              " 'will',\n",
              " 'always',\n",
              " 'Resist',\n",
              " 'and',\n",
              " 'Obstruct!']"
            ]
          },
          "metadata": {},
          "execution_count": 4
        }
      ]
    },
    {
      "cell_type": "code",
      "metadata": {
        "colab": {
          "base_uri": "https://localhost:8080/"
        },
        "id": "Z-diG2_mXt0U",
        "outputId": "2453ea9f-9b1c-40dd-b394-dca4cd31d9b0"
      },
      "source": [
        "[w for w in txt2 if len(w) > 3]"
      ],
      "execution_count": 5,
      "outputs": [
        {
          "output_type": "execute_result",
          "data": {
            "text/plain": [
              "['Radical',\n",
              " 'Left',\n",
              " 'Democrats',\n",
              " 'will',\n",
              " 'never',\n",
              " 'satisfied',\n",
              " 'with',\n",
              " 'anything',\n",
              " 'give',\n",
              " 'them.',\n",
              " 'They',\n",
              " 'will',\n",
              " 'always',\n",
              " 'Resist',\n",
              " 'Obstruct!']"
            ]
          },
          "metadata": {},
          "execution_count": 5
        }
      ]
    },
    {
      "cell_type": "code",
      "metadata": {
        "colab": {
          "base_uri": "https://localhost:8080/"
        },
        "id": "JIHtz61UXz0Q",
        "outputId": "5af79bf2-cce6-48be-b3f2-5fcc8794d7ee"
      },
      "source": [
        "[w for w in txt2 if w.istitle()]"
      ],
      "execution_count": 6,
      "outputs": [
        {
          "output_type": "execute_result",
          "data": {
            "text/plain": [
              "['The', 'Radical', 'Left', 'Democrats', 'They', 'Resist', 'Obstruct!']"
            ]
          },
          "metadata": {},
          "execution_count": 6
        }
      ]
    },
    {
      "cell_type": "code",
      "metadata": {
        "colab": {
          "base_uri": "https://localhost:8080/"
        },
        "id": "RuIY2AKZX3NS",
        "outputId": "b5bd3870-c0f5-4fc2-8699-831a2a925a97"
      },
      "source": [
        "# Find words which ends with ‘s’:\n",
        "[w for w in txt2 if w.endswith('s')]"
      ],
      "execution_count": 7,
      "outputs": [
        {
          "output_type": "execute_result",
          "data": {
            "text/plain": [
              "['Democrats', 'always']"
            ]
          },
          "metadata": {},
          "execution_count": 7
        }
      ]
    },
    {
      "cell_type": "code",
      "metadata": {
        "colab": {
          "base_uri": "https://localhost:8080/"
        },
        "id": "3iUJSYt1X9xh",
        "outputId": "766f4239-cef4-40b0-be4f-2188791791bf"
      },
      "source": [
        "txt3 = 'To be or not to be'\n",
        "txt4 = txt3.split(' ')\n",
        "txt4"
      ],
      "execution_count": 9,
      "outputs": [
        {
          "output_type": "execute_result",
          "data": {
            "text/plain": [
              "['To', 'be', 'or', 'not', 'to', 'be']"
            ]
          },
          "metadata": {},
          "execution_count": 9
        }
      ]
    },
    {
      "cell_type": "code",
      "metadata": {
        "colab": {
          "base_uri": "https://localhost:8080/"
        },
        "id": "XKJ1lohTYH9f",
        "outputId": "078fefe5-f5f6-4032-e62f-093a96817033"
      },
      "source": [
        "len(set(txt4)) "
      ],
      "execution_count": 10,
      "outputs": [
        {
          "output_type": "execute_result",
          "data": {
            "text/plain": [
              "5"
            ]
          },
          "metadata": {},
          "execution_count": 10
        }
      ]
    },
    {
      "cell_type": "code",
      "metadata": {
        "colab": {
          "base_uri": "https://localhost:8080/"
        },
        "id": "0KTL6fiCYN-B",
        "outputId": "0ffbc2d5-c374-400f-ee1b-d3611a5f90ce"
      },
      "source": [
        "set(txt4)"
      ],
      "execution_count": 11,
      "outputs": [
        {
          "output_type": "execute_result",
          "data": {
            "text/plain": [
              "{'To', 'be', 'not', 'or', 'to'}"
            ]
          },
          "metadata": {},
          "execution_count": 11
        }
      ]
    },
    {
      "cell_type": "code",
      "metadata": {
        "colab": {
          "base_uri": "https://localhost:8080/"
        },
        "id": "OaV4Z385YSZg",
        "outputId": "9022fed7-0dac-42cb-82b1-95a50657dff2"
      },
      "source": [
        "set([w.lower() for w in txt4])"
      ],
      "execution_count": 12,
      "outputs": [
        {
          "output_type": "execute_result",
          "data": {
            "text/plain": [
              "{'be', 'not', 'or', 'to'}"
            ]
          },
          "metadata": {},
          "execution_count": 12
        }
      ]
    },
    {
      "cell_type": "code",
      "metadata": {
        "colab": {
          "base_uri": "https://localhost:8080/"
        },
        "id": "hciGL6gdYZlm",
        "outputId": "a3bcba00-ad24-4e16-f22c-ec97c6dcff2b"
      },
      "source": [
        "txt5 = 'ouagadougou'\n",
        "txt6 = txt5.split('ou')\n",
        "txt6"
      ],
      "execution_count": 14,
      "outputs": [
        {
          "output_type": "execute_result",
          "data": {
            "text/plain": [
              "['', 'agad', 'g', '']"
            ]
          },
          "metadata": {},
          "execution_count": 14
        }
      ]
    },
    {
      "cell_type": "code",
      "metadata": {
        "colab": {
          "base_uri": "https://localhost:8080/"
        },
        "id": "XWEecnqVYiDx",
        "outputId": "90986389-6a5f-45ce-a94f-4fc892fa7658"
      },
      "source": [
        "list(txt5)"
      ],
      "execution_count": 15,
      "outputs": [
        {
          "output_type": "execute_result",
          "data": {
            "text/plain": [
              "['o', 'u', 'a', 'g', 'a', 'd', 'o', 'u', 'g', 'o', 'u']"
            ]
          },
          "metadata": {},
          "execution_count": 15
        }
      ]
    },
    {
      "cell_type": "code",
      "metadata": {
        "colab": {
          "base_uri": "https://localhost:8080/"
        },
        "id": "18hDPVmrYpqV",
        "outputId": "6944752e-f27b-4548-eec0-3cdc8961e02b"
      },
      "source": [
        "[c for c in txt5]"
      ],
      "execution_count": 18,
      "outputs": [
        {
          "output_type": "execute_result",
          "data": {
            "text/plain": [
              "['o', 'u', 'a', 'g', 'a', 'd', 'o', 'u', 'g', 'o', 'u']"
            ]
          },
          "metadata": {},
          "execution_count": 18
        }
      ]
    },
    {
      "cell_type": "code",
      "metadata": {
        "id": "tX1RIFYPYtul"
      },
      "source": [
        "txt8 = '  \t A quick brown fox jumped over the lazy dog. '"
      ],
      "execution_count": 19,
      "outputs": []
    },
    {
      "cell_type": "code",
      "metadata": {
        "colab": {
          "base_uri": "https://localhost:8080/"
        },
        "id": "EG8O-N8yY8mi",
        "outputId": "67d09d2d-4c5e-4044-c64a-64fd1a53cc5f"
      },
      "source": [
        "txt8.split(' ')"
      ],
      "execution_count": 20,
      "outputs": [
        {
          "output_type": "execute_result",
          "data": {
            "text/plain": [
              "['',\n",
              " '',\n",
              " '\\t',\n",
              " 'A',\n",
              " 'quick',\n",
              " 'brown',\n",
              " 'fox',\n",
              " 'jumped',\n",
              " 'over',\n",
              " 'the',\n",
              " 'lazy',\n",
              " 'dog.',\n",
              " '']"
            ]
          },
          "metadata": {},
          "execution_count": 20
        }
      ]
    },
    {
      "cell_type": "code",
      "metadata": {
        "colab": {
          "base_uri": "https://localhost:8080/",
          "height": 35
        },
        "id": "LnprjMB7ZAtC",
        "outputId": "bdaab85c-9c57-4660-8656-80020044d2ff"
      },
      "source": [
        "txt8.strip()"
      ],
      "execution_count": 21,
      "outputs": [
        {
          "output_type": "execute_result",
          "data": {
            "application/vnd.google.colaboratory.intrinsic+json": {
              "type": "string"
            },
            "text/plain": [
              "'A quick brown fox jumped over the lazy dog.'"
            ]
          },
          "metadata": {},
          "execution_count": 21
        }
      ]
    },
    {
      "cell_type": "code",
      "metadata": {
        "id": "RzLw2ckaZGS8"
      },
      "source": [
        "txt9 = txt8.strip()"
      ],
      "execution_count": 23,
      "outputs": []
    },
    {
      "cell_type": "code",
      "metadata": {
        "colab": {
          "base_uri": "https://localhost:8080/"
        },
        "id": "AsATo8qZZPdf",
        "outputId": "0b580fdb-4359-423e-b73a-5e4490503c3c"
      },
      "source": [
        "txt9.find('o')"
      ],
      "execution_count": 24,
      "outputs": [
        {
          "output_type": "execute_result",
          "data": {
            "text/plain": [
              "10"
            ]
          },
          "metadata": {},
          "execution_count": 24
        }
      ]
    },
    {
      "cell_type": "code",
      "metadata": {
        "colab": {
          "base_uri": "https://localhost:8080/"
        },
        "id": "NzKeklhYZRW7",
        "outputId": "ee4d2efd-8d55-4b4d-8975-1f3be6e69f5d"
      },
      "source": [
        "# Where in the text is the last occurrence of the string?\n",
        "# string.rfind(value, start, end)\n",
        "txt9.rfind('o')    "
      ],
      "execution_count": 25,
      "outputs": [
        {
          "output_type": "execute_result",
          "data": {
            "text/plain": [
              "40"
            ]
          },
          "metadata": {},
          "execution_count": 25
        }
      ]
    },
    {
      "cell_type": "code",
      "metadata": {
        "colab": {
          "base_uri": "https://localhost:8080/",
          "height": 35
        },
        "id": "n4s3VhI7ZUdd",
        "outputId": "3d25f9fa-0fd6-4f5b-a115-8df925f55d41"
      },
      "source": [
        "txt9.replace('o', 'O')   \n",
        "txt9"
      ],
      "execution_count": 26,
      "outputs": [
        {
          "output_type": "execute_result",
          "data": {
            "application/vnd.google.colaboratory.intrinsic+json": {
              "type": "string"
            },
            "text/plain": [
              "'A quick brown fox jumped over the lazy dog.'"
            ]
          },
          "metadata": {},
          "execution_count": 26
        }
      ]
    },
    {
      "cell_type": "code",
      "metadata": {
        "id": "3X4FB-JWZg4i"
      },
      "source": [
        ""
      ],
      "execution_count": null,
      "outputs": []
    },
    {
      "cell_type": "markdown",
      "metadata": {
        "id": "bHqu24QPZ2w7"
      },
      "source": [
        ""
      ]
    }
  ]
}