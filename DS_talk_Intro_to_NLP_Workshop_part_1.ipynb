{
  "nbformat": 4,
  "nbformat_minor": 0,
  "metadata": {
    "colab": {
      "name": "DS talk-Intro to NLP Workshop part 1.ipynb",
      "provenance": [],
      "collapsed_sections": [],
      "toc_visible": true,
      "authorship_tag": "ABX9TyO20V3+5sTXOYl8R86OSQ+U",
      "include_colab_link": true
    },
    "kernelspec": {
      "name": "python3",
      "display_name": "Python 3"
    },
    "language_info": {
      "name": "python"
    }
  },
  "cells": [
    {
      "cell_type": "markdown",
      "metadata": {
        "id": "view-in-github",
        "colab_type": "text"
      },
      "source": [
        "<a href=\"https://colab.research.google.com/github/preenet/ds_talk_nlp/blob/main/DS_talk_Intro_to_NLP_Workshop_part_1.ipynb\" target=\"_parent\"><img src=\"https://colab.research.google.com/assets/colab-badge.svg\" alt=\"Open In Colab\"/></a>"
      ]
    },
    {
      "cell_type": "markdown",
      "metadata": {
        "id": "YUVIu2ae4Ydn"
      },
      "source": [
        "# Pree Thiengburanathum\n",
        "# pree.t@cmu.ac.th\n",
        "# workshop part 1\n",
        "# We use wisesight sentiment corpus, can be downloaded at \n",
        "https://github.com/PyThaiNLP/wisesight-sentiment/ or \n",
        "\n",
        "https://www.kaggle.com/c/wisesight-sentiment/data  \n",
        "Perform text classification on Thai social media posts \n",
        "\n",
        "\n",
        "train.txt - the training data. Each line is a piece of text.  \n",
        "train_label.txt - the label of the training data. Each line is the label   corresponding to the same line in train.txt.  \n",
        "test.txt - the test data. Each line is a piece of text.  \n",
        "test_majority.csv - a sample submission file using the majority class in the correct format.  \n",
        "The Id in test_majority.csv is the line number in test.txt \n",
        "\n",
        "no feature engineering in this notebook, teaching proposed only!  \n",
        "\n"
      ]
    },
    {
      "cell_type": "code",
      "metadata": {
        "id": "ZCyZGRnq4xCw"
      },
      "source": [
        "%matplotlib inline\n",
        "%reload_ext autoreload\n",
        "%autoreload 2"
      ],
      "execution_count": 42,
      "outputs": []
    },
    {
      "cell_type": "code",
      "metadata": {
        "id": "MY4qYbKe4efe"
      },
      "source": [
        "import re\n",
        "import pandas as pd\n",
        "from matplotlib import pyplot as plt\n",
        "from pythainlp import word_tokenize\n"
      ],
      "execution_count": 43,
      "outputs": []
    },
    {
      "cell_type": "code",
      "metadata": {
        "colab": {
          "base_uri": "https://localhost:8080/"
        },
        "id": "xZUsc_3G7Y7D",
        "outputId": "ee34f363-4e4c-478c-d77e-8b1b5bfdd8f8"
      },
      "source": [
        "!pip install https://github.com/PyThaiNLP/pythainlp/archive/dev.zip"
      ],
      "execution_count": 44,
      "outputs": [
        {
          "output_type": "stream",
          "name": "stdout",
          "text": [
            "Collecting https://github.com/PyThaiNLP/pythainlp/archive/dev.zip\n",
            "  Using cached https://github.com/PyThaiNLP/pythainlp/archive/dev.zip\n",
            "Requirement already satisfied: python-crfsuite>=0.9.6 in /usr/local/lib/python3.7/dist-packages (from pythainlp==3.0.0.dev0) (0.9.7)\n",
            "Requirement already satisfied: requests>=2.22.0 in /usr/local/lib/python3.7/dist-packages (from pythainlp==3.0.0.dev0) (2.23.0)\n",
            "Requirement already satisfied: tinydb>=3.0 in /usr/local/lib/python3.7/dist-packages (from pythainlp==3.0.0.dev0) (4.5.2)\n",
            "Requirement already satisfied: chardet<4,>=3.0.2 in /usr/local/lib/python3.7/dist-packages (from requests>=2.22.0->pythainlp==3.0.0.dev0) (3.0.4)\n",
            "Requirement already satisfied: urllib3!=1.25.0,!=1.25.1,<1.26,>=1.21.1 in /usr/local/lib/python3.7/dist-packages (from requests>=2.22.0->pythainlp==3.0.0.dev0) (1.24.3)\n",
            "Requirement already satisfied: certifi>=2017.4.17 in /usr/local/lib/python3.7/dist-packages (from requests>=2.22.0->pythainlp==3.0.0.dev0) (2021.5.30)\n",
            "Requirement already satisfied: idna<3,>=2.5 in /usr/local/lib/python3.7/dist-packages (from requests>=2.22.0->pythainlp==3.0.0.dev0) (2.10)\n",
            "Requirement already satisfied: typing-extensions<4.0.0,>=3.10.0 in /usr/local/lib/python3.7/dist-packages (from tinydb>=3.0->pythainlp==3.0.0.dev0) (3.10.0.2)\n"
          ]
        }
      ]
    },
    {
      "cell_type": "code",
      "metadata": {
        "colab": {
          "base_uri": "https://localhost:8080/"
        },
        "id": "NBYNSOTl41wo",
        "outputId": "0bca6c88-5c20-4120-d5b3-00fca7756e68"
      },
      "source": [
        "!pip install emoji"
      ],
      "execution_count": 45,
      "outputs": [
        {
          "output_type": "stream",
          "name": "stdout",
          "text": [
            "Requirement already satisfied: emoji in /usr/local/lib/python3.7/dist-packages (1.6.0)\n"
          ]
        }
      ]
    },
    {
      "cell_type": "code",
      "metadata": {
        "colab": {
          "base_uri": "https://localhost:8080/"
        },
        "id": "3b7N6Bhb7ZjZ",
        "outputId": "1578c561-40f9-42ae-b02a-81448a866191"
      },
      "source": [
        "import emoji\n",
        "from google.colab import drive\n",
        "drive.mount('/content/gdrive')\n",
        "data_path = '/content/gdrive/My Drive/Colab Notebooks/WiseSight Sentiment/kaggle-competition/'"
      ],
      "execution_count": 46,
      "outputs": [
        {
          "output_type": "stream",
          "name": "stdout",
          "text": [
            "Drive already mounted at /content/gdrive; to attempt to forcibly remount, call drive.mount(\"/content/gdrive\", force_remount=True).\n"
          ]
        }
      ]
    },
    {
      "cell_type": "code",
      "metadata": {
        "colab": {
          "base_uri": "https://localhost:8080/"
        },
        "id": "9ypNOJMOraaS",
        "outputId": "b614c91c-b1f6-49a4-ea37-a9133e126340"
      },
      "source": [
        "!ls '/content/gdrive/My Drive/Colab Notebooks/WiseSight Sentiment/kaggle-competition'"
      ],
      "execution_count": 47,
      "outputs": [
        {
          "output_type": "stream",
          "name": "stdout",
          "text": [
            "competition.ipynb  test_majority.csv  text_generation.ipynb  train.txt\n",
            "README.md\t   test_solution.csv  train_label.txt\n",
            "test_label.txt\t   test.txt\t      train_model.py\n"
          ]
        }
      ]
    },
    {
      "cell_type": "code",
      "metadata": {
        "colab": {
          "base_uri": "https://localhost:8080/"
        },
        "id": "jxLihqVlrvEQ",
        "outputId": "6516bb21-cf11-48a9-e57c-6dc1099b8691"
      },
      "source": [
        "# we open the given training set, namely train.txt and the target feature, namely train_label.txt\n",
        "# then, we save as csv to the current directory.\n",
        "features = []\n",
        "targets = []\n",
        "\n",
        "with open(data_path + \"train.txt\") as f:\n",
        "    for line in f:\n",
        "        features.append(line.strip())\n",
        "\n",
        "with open(data_path+ \"train_label.txt\") as f:\n",
        "    for line in f:\n",
        "        targets .append(line.strip())\n",
        "\n",
        "df = pd.DataFrame({ \"targets\": targets, \"features\": features })\n",
        "\n",
        "df.to_csv(\"train.csv\", index=False)\n",
        "df.shape"
      ],
      "execution_count": 48,
      "outputs": [
        {
          "output_type": "execute_result",
          "data": {
            "text/plain": [
              "(24063, 2)"
            ]
          },
          "metadata": {},
          "execution_count": 48
        }
      ]
    },
    {
      "cell_type": "code",
      "metadata": {
        "colab": {
          "base_uri": "https://localhost:8080/"
        },
        "id": "qZoHanaXr8BL",
        "outputId": "1d441016-e145-42cf-cc6a-c013937273d9"
      },
      "source": [
        "# we do the sampe for testing\n",
        "features = []\n",
        "targets = []\n",
        "\n",
        "with open(data_path + \"test.txt\") as f:\n",
        "    for line in f:\n",
        "        features.append(line.strip())\n",
        "\n",
        "with open(data_path+ \"test_label.txt\") as f:\n",
        "    for line in f:\n",
        "        targets .append(line.strip())\n",
        "\n",
        "df_test = pd.DataFrame({ \"targets\": targets, \"features\": features })\n",
        "\n",
        "df_test.to_csv(\"test.csv\", index=False)\n",
        "df_test.shape"
      ],
      "execution_count": 49,
      "outputs": [
        {
          "output_type": "execute_result",
          "data": {
            "text/plain": [
              "(2674, 2)"
            ]
          },
          "metadata": {},
          "execution_count": 49
        }
      ]
    },
    {
      "cell_type": "code",
      "metadata": {
        "colab": {
          "base_uri": "https://localhost:8080/",
          "height": 143
        },
        "id": "ZezJs3nHtTLN",
        "outputId": "15f5c047-1fc3-4833-bc8a-65c806c1a459"
      },
      "source": [
        "df.head(3)"
      ],
      "execution_count": 50,
      "outputs": [
        {
          "output_type": "execute_result",
          "data": {
            "text/html": [
              "<div>\n",
              "<style scoped>\n",
              "    .dataframe tbody tr th:only-of-type {\n",
              "        vertical-align: middle;\n",
              "    }\n",
              "\n",
              "    .dataframe tbody tr th {\n",
              "        vertical-align: top;\n",
              "    }\n",
              "\n",
              "    .dataframe thead th {\n",
              "        text-align: right;\n",
              "    }\n",
              "</style>\n",
              "<table border=\"1\" class=\"dataframe\">\n",
              "  <thead>\n",
              "    <tr style=\"text-align: right;\">\n",
              "      <th></th>\n",
              "      <th>targets</th>\n",
              "      <th>features</th>\n",
              "    </tr>\n",
              "  </thead>\n",
              "  <tbody>\n",
              "    <tr>\n",
              "      <th>0</th>\n",
              "      <td>neu</td>\n",
              "      <td>ประเทศเราผลิตและส่งออกยาสูบเยอะสุดในโลกจิงป่าวคับ</td>\n",
              "    </tr>\n",
              "    <tr>\n",
              "      <th>1</th>\n",
              "      <td>neu</td>\n",
              "      <td>คะ</td>\n",
              "    </tr>\n",
              "    <tr>\n",
              "      <th>2</th>\n",
              "      <td>neg</td>\n",
              "      <td>อิเหี้ยออมทำกูอยากกินเอ็มเค</td>\n",
              "    </tr>\n",
              "  </tbody>\n",
              "</table>\n",
              "</div>"
            ],
            "text/plain": [
              "  targets                                           features\n",
              "0     neu  ประเทศเราผลิตและส่งออกยาสูบเยอะสุดในโลกจิงป่าวคับ\n",
              "1     neu                                                 คะ\n",
              "2     neg                        อิเหี้ยออมทำกูอยากกินเอ็มเค"
            ]
          },
          "metadata": {},
          "execution_count": 50
        }
      ]
    },
    {
      "cell_type": "code",
      "metadata": {
        "colab": {
          "base_uri": "https://localhost:8080/"
        },
        "id": "mREppm-rtxiP",
        "outputId": "f57a2b96-2e58-4e84-bc3c-d225f06b7ff7"
      },
      "source": [
        "# check for any missing vlue\n",
        "df.isnull().sum()"
      ],
      "execution_count": 51,
      "outputs": [
        {
          "output_type": "execute_result",
          "data": {
            "text/plain": [
              "targets     0\n",
              "features    0\n",
              "dtype: int64"
            ]
          },
          "metadata": {},
          "execution_count": 51
        }
      ]
    },
    {
      "cell_type": "code",
      "metadata": {
        "id": "OmOUUeG7t2-_"
      },
      "source": [
        "from sklearn.pipeline import Pipeline\n",
        "from sklearn.feature_extraction.text import CountVectorizer\n",
        "from sklearn.linear_model import LogisticRegression\n",
        "from sklearn.model_selection import cross_val_score\n",
        "\n",
        "logistic = LogisticRegression(C=2., penalty='l2', solver='liblinear', dual=False, multi_class='ovr')\n",
        "logis = Pipeline([(\"count_vectorizer\", CountVectorizer(analyzer=lambda x: x)), (\"tfidf\", TfidfTransformer()), (\"logistic\",  logistic)])"
      ],
      "execution_count": 69,
      "outputs": []
    },
    {
      "cell_type": "code",
      "metadata": {
        "id": "66rUnZZTuvD9"
      },
      "source": [
        "score = cross_val_score( logis, df['features'].to_numpy(), df['targets'].to_numpy(), cv = 5).mean()"
      ],
      "execution_count": 70,
      "outputs": []
    },
    {
      "cell_type": "code",
      "metadata": {
        "colab": {
          "base_uri": "https://localhost:8080/"
        },
        "id": "neXK1RaevQtE",
        "outputId": "8787fdf7-e6b4-46e2-d3d4-e4b892fa6d97"
      },
      "source": [
        "print(score)"
      ],
      "execution_count": 71,
      "outputs": [
        {
          "output_type": "stream",
          "name": "stdout",
          "text": [
            "0.6041636334401201\n"
          ]
        }
      ]
    },
    {
      "cell_type": "code",
      "metadata": {
        "id": "Hrkk0sKkv96e"
      },
      "source": [
        "#lets pre-processing the features :(\n",
        "# took it from https://github.com/PyThaiNLP/wisesight-sentiment/blob/master/kaggle-competition/competition.ipynb\n",
        "def replace_url(text):\n",
        "    URL_PATTERN = r\"\"\"(?i)\\b((?:https?:(?:/{1,3}|[a-z0-9%])|[a-z0-9.\\-]+[.](?:com|net|org|edu|gov|mil|aero|asia|biz|cat|coop|info|int|jobs|mobi|museum|name|post|pro|tel|travel|xxx|ac|ad|ae|af|ag|ai|al|am|an|ao|aq|ar|as|at|au|aw|ax|az|ba|bb|bd|be|bf|bg|bh|bi|bj|bm|bn|bo|br|bs|bt|bv|bw|by|bz|ca|cc|cd|cf|cg|ch|ci|ck|cl|cm|cn|co|cr|cs|cu|cv|cx|cy|cz|dd|de|dj|dk|dm|do|dz|ec|ee|eg|eh|er|es|et|eu|fi|fj|fk|fm|fo|fr|ga|gb|gd|ge|gf|gg|gh|gi|gl|gm|gn|gp|gq|gr|gs|gt|gu|gw|gy|hk|hm|hn|hr|ht|hu|id|ie|il|im|in|io|iq|ir|is|it|je|jm|jo|jp|ke|kg|kh|ki|km|kn|kp|kr|kw|ky|kz|la|lb|lc|li|lk|lr|ls|lt|lu|lv|ly|ma|mc|md|me|mg|mh|mk|ml|mm|mn|mo|mp|mq|mr|ms|mt|mu|mv|mw|mx|my|mz|na|nc|ne|nf|ng|ni|nl|no|np|nr|nu|nz|om|pa|pe|pf|pg|ph|pk|pl|pm|pn|pr|ps|pt|pw|py|qa|re|ro|rs|ru|rw|sa|sb|sc|sd|se|sg|sh|si|sj|Ja|sk|sl|sm|sn|so|sr|ss|st|su|sv|sx|sy|sz|tc|td|tf|tg|th|tj|tk|tl|tm|tn|to|tp|tr|tt|tv|tw|tz|ua|ug|uk|us|uy|uz|va|vc|ve|vg|vi|vn|vu|wf|ws|ye|yt|yu|za|zm|zw)/)(?:[^\\s()<>{}\\[\\]]+|\\([^\\s()]*?\\([^\\s()]+\\)[^\\s()]*?\\)|\\([^\\s]+?\\))+(?:\\([^\\s()]*?\\([^\\s()]+\\)[^\\s()]*?\\)|\\([^\\s]+?\\)|[^\\s`!()\\[\\]{};:'\".,<>?«»“”‘’])|(?:(?<!@)[a-z0-9]+(?:[.\\-][a-z0-9]+)*[.](?:com|net|org|edu|gov|mil|aero|asia|biz|cat|coop|info|int|jobs|mobi|museum|name|post|pro|tel|travel|xxx|ac|ad|ae|af|ag|ai|al|am|an|ao|aq|ar|as|at|au|aw|ax|az|ba|bb|bd|be|bf|bg|bh|bi|bj|bm|bn|bo|br|bs|bt|bv|bw|by|bz|ca|cc|cd|cf|cg|ch|ci|ck|cl|cm|cn|co|cr|cs|cu|cv|cx|cy|cz|dd|de|dj|dk|dm|do|dz|ec|ee|eg|eh|er|es|et|eu|fi|fj|fk|fm|fo|fr|ga|gb|gd|ge|gf|gg|gh|gi|gl|gm|gn|gp|gq|gr|gs|gt|gu|gw|gy|hk|hm|hn|hr|ht|hu|id|ie|il|im|in|io|iq|ir|is|it|je|jm|jo|jp|ke|kg|kh|ki|km|kn|kp|kr|kw|ky|kz|la|lb|lc|li|lk|lr|ls|lt|lu|lv|ly|ma|mc|md|me|mg|mh|mk|ml|mm|mn|mo|mp|mq|mr|ms|mt|mu|mv|mw|mx|my|mz|na|nc|ne|nf|ng|ni|nl|no|np|nr|nu|nz|om|pa|pe|pf|pg|ph|pk|pl|pm|pn|pr|ps|pt|pw|py|qa|re|ro|rs|ru|rw|sa|sb|sc|sd|se|sg|sh|si|sj|Ja|sk|sl|sm|sn|so|sr|ss|st|su|sv|sx|sy|sz|tc|td|tf|tg|th|tj|tk|tl|tm|tn|to|tp|tr|tt|tv|tw|tz|ua|ug|uk|us|uy|uz|va|vc|ve|vg|vi|vn|vu|wf|ws|ye|yt|yu|za|zm|zw)\\b/?(?!@)))\"\"\"\n",
        "    return re.sub(URL_PATTERN, 'xxurl', text)\n",
        "\n",
        "def replace_rep(text):\n",
        "    def _replace_rep(m):\n",
        "        c,cc = m.groups()\n",
        "        return f'{c}xxrep'\n",
        "    re_rep = re.compile(r'(\\S)(\\1{2,})')\n",
        "    return re_rep.sub(_replace_rep, text)\n",
        "\n",
        "def ungroup_emoji(toks):\n",
        "    res = []\n",
        "    for tok in toks:\n",
        "        if emoji.emoji_count(tok) == len(tok):\n",
        "            for char in tok:\n",
        "                res.append(char)\n",
        "        else:\n",
        "            res.append(tok)\n",
        "    return res\n",
        "\n",
        "def process_text(text):\n",
        "    #pre rules\n",
        "    res = text.lower().strip()\n",
        "    res = replace_url(res)\n",
        "    res = replace_rep(res)\n",
        "    \n",
        "    #tokenize\n",
        "    res = [word for word in word_tokenize(res) if word and not re.search(pattern=r\"\\s+\", string=word)]\n",
        "    \n",
        "    #post rules\n",
        "    res = ungroup_emoji(res)\n",
        "    \n",
        "    return res"
      ],
      "execution_count": 72,
      "outputs": []
    },
    {
      "cell_type": "code",
      "metadata": {
        "id": "t48We5SSxnPY"
      },
      "source": [
        "# let's do it properly :)\n",
        "\n",
        "pos_df = df[df.targets == \"pos\"]\n",
        "neu_df = df[df.targets == \"neu\"]\n",
        "neg_df = df[df.targets== \"neg\"]"
      ],
      "execution_count": 73,
      "outputs": []
    },
    {
      "cell_type": "code",
      "metadata": {
        "colab": {
          "base_uri": "https://localhost:8080/",
          "height": 175
        },
        "id": "uk3qclYg2Pz3",
        "outputId": "5f3857ea-56c3-41b7-9543-729ba4ec772e"
      },
      "source": [
        "sentiment_df = pd.concat([neg_df, pos_df, neu_df])\n",
        "sentiment_df = sentiment_df.reset_index(drop=True)\n",
        "sentiment_df.groupby(\"targets\").features.describe()"
      ],
      "execution_count": 74,
      "outputs": [
        {
          "output_type": "execute_result",
          "data": {
            "text/html": [
              "<div>\n",
              "<style scoped>\n",
              "    .dataframe tbody tr th:only-of-type {\n",
              "        vertical-align: middle;\n",
              "    }\n",
              "\n",
              "    .dataframe tbody tr th {\n",
              "        vertical-align: top;\n",
              "    }\n",
              "\n",
              "    .dataframe thead th {\n",
              "        text-align: right;\n",
              "    }\n",
              "</style>\n",
              "<table border=\"1\" class=\"dataframe\">\n",
              "  <thead>\n",
              "    <tr style=\"text-align: right;\">\n",
              "      <th></th>\n",
              "      <th>count</th>\n",
              "      <th>unique</th>\n",
              "      <th>top</th>\n",
              "      <th>freq</th>\n",
              "    </tr>\n",
              "    <tr>\n",
              "      <th>targets</th>\n",
              "      <th></th>\n",
              "      <th></th>\n",
              "      <th></th>\n",
              "      <th></th>\n",
              "    </tr>\n",
              "  </thead>\n",
              "  <tbody>\n",
              "    <tr>\n",
              "      <th>neg</th>\n",
              "      <td>6140</td>\n",
              "      <td>6129</td>\n",
              "      <td>#ERROR!</td>\n",
              "      <td>12</td>\n",
              "    </tr>\n",
              "    <tr>\n",
              "      <th>neu</th>\n",
              "      <td>13105</td>\n",
              "      <td>13087</td>\n",
              "      <td>#ERROR!</td>\n",
              "      <td>19</td>\n",
              "    </tr>\n",
              "    <tr>\n",
              "      <th>pos</th>\n",
              "      <td>4300</td>\n",
              "      <td>4300</td>\n",
              "      <td>แปะไว้ก่อนนะ</td>\n",
              "      <td>1</td>\n",
              "    </tr>\n",
              "  </tbody>\n",
              "</table>\n",
              "</div>"
            ],
            "text/plain": [
              "         count unique           top freq\n",
              "targets                                 \n",
              "neg       6140   6129       #ERROR!   12\n",
              "neu      13105  13087       #ERROR!   19\n",
              "pos       4300   4300  แปะไว้ก่อนนะ    1"
            ]
          },
          "metadata": {},
          "execution_count": 74
        }
      ]
    },
    {
      "cell_type": "code",
      "metadata": {
        "id": "0WPzyb1l4Tne"
      },
      "source": [
        "sentiment_df['processed'] = sentiment_df.features.map(lambda x: '|'.join(process_text(x)))"
      ],
      "execution_count": 75,
      "outputs": []
    },
    {
      "cell_type": "code",
      "metadata": {
        "id": "e0NpsUdQ3ECr"
      },
      "source": [
        "from sklearn.model_selection import train_test_split\n",
        "\n",
        "X_train, X_test, y_train, y_test = train_test_split(sentiment_df['processed'], sentiment_df.targets, test_size=0.20, random_state=42)"
      ],
      "execution_count": 76,
      "outputs": []
    },
    {
      "cell_type": "code",
      "metadata": {
        "id": "Fn9fY_Zu3Kay"
      },
      "source": [
        "score = cross_val_score( logis, sentiment_df['processed'].to_numpy(), sentiment_df.targets.to_numpy(), cv = 5).mean()"
      ],
      "execution_count": 77,
      "outputs": []
    },
    {
      "cell_type": "code",
      "metadata": {
        "colab": {
          "base_uri": "https://localhost:8080/"
        },
        "id": "NWH4E_DA6XRF",
        "outputId": "5f341b4e-2a65-42a7-aee8-be01ad7b6a29"
      },
      "source": [
        "print(score)"
      ],
      "execution_count": 78,
      "outputs": [
        {
          "output_type": "stream",
          "name": "stdout",
          "text": [
            "0.6220004247186239\n"
          ]
        }
      ]
    },
    {
      "cell_type": "code",
      "metadata": {
        "id": "hXKYXAeR6av0"
      },
      "source": [
        ""
      ],
      "execution_count": 68,
      "outputs": []
    }
  ]
}