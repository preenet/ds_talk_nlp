{
  "nbformat": 4,
  "nbformat_minor": 0,
  "metadata": {
    "colab": {
      "name": "DS talk-Intro to NLP Workshop part 1.ipynb",
      "provenance": [],
      "collapsed_sections": [],
      "toc_visible": true,
      "authorship_tag": "ABX9TyOed6dk9vPYnY5aJdVQwXMv",
      "include_colab_link": true
    },
    "kernelspec": {
      "name": "python3",
      "display_name": "Python 3"
    },
    "language_info": {
      "name": "python"
    }
  },
  "cells": [
    {
      "cell_type": "markdown",
      "metadata": {
        "id": "view-in-github",
        "colab_type": "text"
      },
      "source": [
        "<a href=\"https://colab.research.google.com/github/preenet/ds_talk_nlp/blob/main/DS_talk_Intro_to_NLP_Workshop_part_1.ipynb\" target=\"_parent\"><img src=\"https://colab.research.google.com/assets/colab-badge.svg\" alt=\"Open In Colab\"/></a>"
      ]
    },
    {
      "cell_type": "markdown",
      "metadata": {
        "id": "YUVIu2ae4Ydn"
      },
      "source": [
        "# Pree Thiengburanathum\n",
        "# pree.t@cmu.ac.th\n",
        "# workshop part 1\n",
        "# We use wisesight sentiment corpus, can be downloaded at \n",
        "https://github.com/PyThaiNLP/wisesight-sentiment/ or \n",
        "\n",
        "https://www.kaggle.com/c/wisesight-sentiment/data  \n",
        "Perform text classification on Thai social media posts \n",
        "\n",
        "\n",
        "train.txt - the training data. Each line is a piece of text.  \n",
        "train_label.txt - the label of the training data. Each line is the label   corresponding to the same line in train.txt.  \n",
        "test.txt - the test data. Each line is a piece of text.  \n",
        "test_majority.csv - a sample submission file using the majority class in the correct format.  \n",
        "The Id in test_majority.csv is the line number in test.txt \n",
        "\n",
        "no feature engineering in this notebook, teaching proposed only!  \n",
        "\n"
      ]
    },
    {
      "cell_type": "code",
      "metadata": {
        "id": "ZCyZGRnq4xCw"
      },
      "source": [
        "%matplotlib inline\n",
        "%reload_ext autoreload\n",
        "%autoreload 2"
      ],
      "execution_count": 78,
      "outputs": []
    },
    {
      "cell_type": "code",
      "metadata": {
        "id": "MY4qYbKe4efe",
        "colab": {
          "base_uri": "https://localhost:8080/"
        },
        "outputId": "3479c128-9342-4579-ea4f-333927b5c727"
      },
      "source": [
        "import re\n",
        "import pandas as pd\n",
        "from matplotlib import pyplot as plt\n",
        "\n",
        "!pip install https://github.com/PyThaiNLP/pythainlp/archive/dev.zip\n",
        "!pip install emoji\n",
        "from pythainlp import word_tokenize\n"
      ],
      "execution_count": 79,
      "outputs": [
        {
          "output_type": "stream",
          "name": "stdout",
          "text": [
            "Collecting https://github.com/PyThaiNLP/pythainlp/archive/dev.zip\n",
            "  Using cached https://github.com/PyThaiNLP/pythainlp/archive/dev.zip\n",
            "Requirement already satisfied: python-crfsuite>=0.9.6 in /usr/local/lib/python3.7/dist-packages (from pythainlp==3.0.0.dev0) (0.9.7)\n",
            "Requirement already satisfied: requests>=2.22.0 in /usr/local/lib/python3.7/dist-packages (from pythainlp==3.0.0.dev0) (2.23.0)\n",
            "Requirement already satisfied: tinydb>=3.0 in /usr/local/lib/python3.7/dist-packages (from pythainlp==3.0.0.dev0) (4.5.2)\n",
            "Requirement already satisfied: certifi>=2017.4.17 in /usr/local/lib/python3.7/dist-packages (from requests>=2.22.0->pythainlp==3.0.0.dev0) (2021.5.30)\n",
            "Requirement already satisfied: chardet<4,>=3.0.2 in /usr/local/lib/python3.7/dist-packages (from requests>=2.22.0->pythainlp==3.0.0.dev0) (3.0.4)\n",
            "Requirement already satisfied: idna<3,>=2.5 in /usr/local/lib/python3.7/dist-packages (from requests>=2.22.0->pythainlp==3.0.0.dev0) (2.10)\n",
            "Requirement already satisfied: urllib3!=1.25.0,!=1.25.1,<1.26,>=1.21.1 in /usr/local/lib/python3.7/dist-packages (from requests>=2.22.0->pythainlp==3.0.0.dev0) (1.24.3)\n",
            "Requirement already satisfied: typing-extensions<4.0.0,>=3.10.0 in /usr/local/lib/python3.7/dist-packages (from tinydb>=3.0->pythainlp==3.0.0.dev0) (3.10.0.2)\n",
            "Requirement already satisfied: emoji in /usr/local/lib/python3.7/dist-packages (1.6.0)\n"
          ]
        }
      ]
    },
    {
      "cell_type": "code",
      "metadata": {
        "colab": {
          "base_uri": "https://localhost:8080/"
        },
        "id": "3b7N6Bhb7ZjZ",
        "outputId": "6982d37f-4041-4f26-e907-c1575326781e"
      },
      "source": [
        "import emoji\n",
        "from google.colab import drive\n",
        "drive.mount('/content/gdrive')\n",
        "data_path = '/content/gdrive/My Drive/Colab Notebooks/WiseSight Sentiment/kaggle-competition/'"
      ],
      "execution_count": 80,
      "outputs": [
        {
          "output_type": "stream",
          "name": "stdout",
          "text": [
            "Drive already mounted at /content/gdrive; to attempt to forcibly remount, call drive.mount(\"/content/gdrive\", force_remount=True).\n"
          ]
        }
      ]
    },
    {
      "cell_type": "code",
      "metadata": {
        "colab": {
          "base_uri": "https://localhost:8080/"
        },
        "id": "9ypNOJMOraaS",
        "outputId": "d9d493df-07ff-4cd8-d6d0-c31e9ed70139"
      },
      "source": [
        "!ls '/content/gdrive/My Drive/Colab Notebooks/WiseSight Sentiment/kaggle-competition'"
      ],
      "execution_count": 81,
      "outputs": [
        {
          "output_type": "stream",
          "name": "stdout",
          "text": [
            "competition.ipynb  test_majority.csv  text_generation.ipynb  train.txt\n",
            "README.md\t   test_solution.csv  train_label.txt\n",
            "test_label.txt\t   test.txt\t      train_model.py\n"
          ]
        }
      ]
    },
    {
      "cell_type": "code",
      "metadata": {
        "colab": {
          "base_uri": "https://localhost:8080/"
        },
        "id": "jxLihqVlrvEQ",
        "outputId": "e4b7e8e1-f6e1-4af6-bf5e-7d2e5351bf78"
      },
      "source": [
        "# we open the given training set, namely train.txt and the target feature, namely train_label.txt\n",
        "# then, we save as csv to the current directory.\n",
        "features = []\n",
        "targets = []\n",
        "\n",
        "with open(data_path + \"train.txt\") as f:\n",
        "    for line in f:\n",
        "        features.append(line.strip())\n",
        "\n",
        "with open(data_path+ \"train_label.txt\") as f:\n",
        "    for line in f:\n",
        "        targets .append(line.strip())\n",
        "\n",
        "df = pd.DataFrame({ \"targets\": targets, \"features\": features })\n",
        "\n",
        "df.to_csv(\"train.csv\", index=False)\n",
        "df.shape"
      ],
      "execution_count": 82,
      "outputs": [
        {
          "output_type": "execute_result",
          "data": {
            "text/plain": [
              "(24063, 2)"
            ]
          },
          "metadata": {},
          "execution_count": 82
        }
      ]
    },
    {
      "cell_type": "code",
      "metadata": {
        "colab": {
          "base_uri": "https://localhost:8080/"
        },
        "id": "qZoHanaXr8BL",
        "outputId": "e26916b7-bc5c-4b4c-af85-0ec9882cb262"
      },
      "source": [
        "# we do the sampe for testing\n",
        "features = []\n",
        "targets = []\n",
        "\n",
        "with open(data_path + \"test.txt\") as f:\n",
        "    for line in f:\n",
        "        features.append(line.strip())\n",
        "\n",
        "with open(data_path+ \"test_label.txt\") as f:\n",
        "    for line in f:\n",
        "        targets .append(line.strip())\n",
        "\n",
        "df_test = pd.DataFrame({ \"targets\": targets, \"features\": features })\n",
        "\n",
        "df_test.to_csv(\"test.csv\", index=False)\n",
        "df_test.shape"
      ],
      "execution_count": 83,
      "outputs": [
        {
          "output_type": "execute_result",
          "data": {
            "text/plain": [
              "(2674, 2)"
            ]
          },
          "metadata": {},
          "execution_count": 83
        }
      ]
    },
    {
      "cell_type": "code",
      "metadata": {
        "colab": {
          "base_uri": "https://localhost:8080/",
          "height": 143
        },
        "id": "ZezJs3nHtTLN",
        "outputId": "fbc097c0-0b06-4195-89a9-efc822b2c0f1"
      },
      "source": [
        "df.head(3)"
      ],
      "execution_count": 84,
      "outputs": [
        {
          "output_type": "execute_result",
          "data": {
            "text/html": [
              "<div>\n",
              "<style scoped>\n",
              "    .dataframe tbody tr th:only-of-type {\n",
              "        vertical-align: middle;\n",
              "    }\n",
              "\n",
              "    .dataframe tbody tr th {\n",
              "        vertical-align: top;\n",
              "    }\n",
              "\n",
              "    .dataframe thead th {\n",
              "        text-align: right;\n",
              "    }\n",
              "</style>\n",
              "<table border=\"1\" class=\"dataframe\">\n",
              "  <thead>\n",
              "    <tr style=\"text-align: right;\">\n",
              "      <th></th>\n",
              "      <th>targets</th>\n",
              "      <th>features</th>\n",
              "    </tr>\n",
              "  </thead>\n",
              "  <tbody>\n",
              "    <tr>\n",
              "      <th>0</th>\n",
              "      <td>neu</td>\n",
              "      <td>ประเทศเราผลิตและส่งออกยาสูบเยอะสุดในโลกจิงป่าวคับ</td>\n",
              "    </tr>\n",
              "    <tr>\n",
              "      <th>1</th>\n",
              "      <td>neu</td>\n",
              "      <td>คะ</td>\n",
              "    </tr>\n",
              "    <tr>\n",
              "      <th>2</th>\n",
              "      <td>neg</td>\n",
              "      <td>อิเหี้ยออมทำกูอยากกินเอ็มเค</td>\n",
              "    </tr>\n",
              "  </tbody>\n",
              "</table>\n",
              "</div>"
            ],
            "text/plain": [
              "  targets                                           features\n",
              "0     neu  ประเทศเราผลิตและส่งออกยาสูบเยอะสุดในโลกจิงป่าวคับ\n",
              "1     neu                                                 คะ\n",
              "2     neg                        อิเหี้ยออมทำกูอยากกินเอ็มเค"
            ]
          },
          "metadata": {},
          "execution_count": 84
        }
      ]
    },
    {
      "cell_type": "code",
      "metadata": {
        "colab": {
          "base_uri": "https://localhost:8080/"
        },
        "id": "mREppm-rtxiP",
        "outputId": "f00805d2-c27b-45d1-bf7a-f2149b0371a5"
      },
      "source": [
        "# check for any missing vlue\n",
        "df.isnull().sum()"
      ],
      "execution_count": 85,
      "outputs": [
        {
          "output_type": "execute_result",
          "data": {
            "text/plain": [
              "targets     0\n",
              "features    0\n",
              "dtype: int64"
            ]
          },
          "metadata": {},
          "execution_count": 85
        }
      ]
    },
    {
      "cell_type": "code",
      "metadata": {
        "colab": {
          "base_uri": "https://localhost:8080/"
        },
        "id": "OmOUUeG7t2-_",
        "outputId": "d3aedad8-8083-4f3c-a4a3-95ea6251cf3a"
      },
      "source": [
        "from sklearn.pipeline import Pipeline\n",
        "from sklearn.feature_extraction.text import CountVectorizer, TfidfTransformer\n",
        "from sklearn.linear_model import LogisticRegression\n",
        "from sklearn.model_selection import cross_val_score\n",
        "\n",
        "# try different machine-learning algorithm\n",
        "#knn = KNeighborsClassifier(n_neighbors=5, metric='euclidean')\n",
        "logistic = LogisticRegression(C=2., penalty='l2', solver='liblinear', dual=False, multi_class='ovr')\n",
        "\n",
        "\n",
        "# demonstrate w/o pipelining\n",
        "coun_vect = CountVectorizer(max_features=15000)\n",
        "count_matrix = coun_vect.fit_transform( df['features'] )\n",
        "count_matrix_test = coun_vect.fit_transform( df_test['features'] )\n",
        "\n",
        "\n",
        "# once we have the IDF values, wecan now compute the tf-idf scores for any document or set of documents.\n",
        "tfidf_trans = TfidfTransformer()\n",
        "vectors = tfidf_trans.fit_transform(count_matrix)\n",
        "vectors_test = tfidf_trans.fit_transform(count_matrix_test)\n",
        "\n",
        "# demonstrate using pipelining\n",
        "#logis = Pipeline([(\"count_vectorizer\", CountVectorizer(analyzer=lambda x: x)), (\"tfidf\", TfidfTransformer()), (\"logistic\",  logistic)])\n",
        "count_matrix, vectors, count_matrix_test, vectors_test"
      ],
      "execution_count": 86,
      "outputs": [
        {
          "output_type": "execute_result",
          "data": {
            "text/plain": [
              "(<24063x15000 sparse matrix of type '<class 'numpy.int64'>'\n",
              " \twith 251593 stored elements in Compressed Sparse Row format>,\n",
              " <24063x15000 sparse matrix of type '<class 'numpy.float64'>'\n",
              " \twith 251593 stored elements in Compressed Sparse Row format>,\n",
              " <2674x15000 sparse matrix of type '<class 'numpy.int64'>'\n",
              " \twith 35378 stored elements in Compressed Sparse Row format>,\n",
              " <2674x15000 sparse matrix of type '<class 'numpy.float64'>'\n",
              " \twith 35378 stored elements in Compressed Sparse Row format>)"
            ]
          },
          "metadata": {},
          "execution_count": 86
        }
      ]
    },
    {
      "cell_type": "code",
      "metadata": {
        "id": "66rUnZZTuvD9"
      },
      "source": [
        "# k-fold crossvalidtion to get generalize of model performance here.\n",
        "score = cross_val_score( logistic, vectors, df['targets'].to_numpy(), cv = 5).mean()\n",
        "#score = cross_val_score( logistic, df['features'].to_numpy(), df['targets'].to_numpy(), cv = 5).mean()"
      ],
      "execution_count": 87,
      "outputs": []
    },
    {
      "cell_type": "code",
      "metadata": {
        "colab": {
          "base_uri": "https://localhost:8080/"
        },
        "id": "neXK1RaevQtE",
        "outputId": "aa5754be-26ca-4271-96ea-6c8a1054eeba"
      },
      "source": [
        "print(score)"
      ],
      "execution_count": 88,
      "outputs": [
        {
          "output_type": "stream",
          "name": "stdout",
          "text": [
            "0.6456379309362166\n"
          ]
        }
      ]
    },
    {
      "cell_type": "code",
      "metadata": {
        "colab": {
          "base_uri": "https://localhost:8080/"
        },
        "id": "x8oTfhHr5Ss3",
        "outputId": "e1fea310-9d64-4501-ab65-9250294f00e2"
      },
      "source": [
        "# see actual performance with test set\n",
        "logistic.fit(vectors, df.targets.to_numpy())\n",
        "logistic.score(vectors_test, df_test.targets.to_numpy())"
      ],
      "execution_count": 89,
      "outputs": [
        {
          "output_type": "execute_result",
          "data": {
            "text/plain": [
              "0.5329094988780853"
            ]
          },
          "metadata": {},
          "execution_count": 89
        }
      ]
    },
    {
      "cell_type": "code",
      "metadata": {
        "id": "Hrkk0sKkv96e"
      },
      "source": [
        "#lets pre-processing the features :(\n",
        "# took it from https://github.com/PyThaiNLP/wisesight-sentiment/blob/master/kaggle-competition/competition.ipynb\n",
        "def replace_url(text):\n",
        "    URL_PATTERN = r\"\"\"(?i)\\b((?:https?:(?:/{1,3}|[a-z0-9%])|[a-z0-9.\\-]+[.](?:com|net|org|edu|gov|mil|aero|asia|biz|cat|coop|info|int|jobs|mobi|museum|name|post|pro|tel|travel|xxx|ac|ad|ae|af|ag|ai|al|am|an|ao|aq|ar|as|at|au|aw|ax|az|ba|bb|bd|be|bf|bg|bh|bi|bj|bm|bn|bo|br|bs|bt|bv|bw|by|bz|ca|cc|cd|cf|cg|ch|ci|ck|cl|cm|cn|co|cr|cs|cu|cv|cx|cy|cz|dd|de|dj|dk|dm|do|dz|ec|ee|eg|eh|er|es|et|eu|fi|fj|fk|fm|fo|fr|ga|gb|gd|ge|gf|gg|gh|gi|gl|gm|gn|gp|gq|gr|gs|gt|gu|gw|gy|hk|hm|hn|hr|ht|hu|id|ie|il|im|in|io|iq|ir|is|it|je|jm|jo|jp|ke|kg|kh|ki|km|kn|kp|kr|kw|ky|kz|la|lb|lc|li|lk|lr|ls|lt|lu|lv|ly|ma|mc|md|me|mg|mh|mk|ml|mm|mn|mo|mp|mq|mr|ms|mt|mu|mv|mw|mx|my|mz|na|nc|ne|nf|ng|ni|nl|no|np|nr|nu|nz|om|pa|pe|pf|pg|ph|pk|pl|pm|pn|pr|ps|pt|pw|py|qa|re|ro|rs|ru|rw|sa|sb|sc|sd|se|sg|sh|si|sj|Ja|sk|sl|sm|sn|so|sr|ss|st|su|sv|sx|sy|sz|tc|td|tf|tg|th|tj|tk|tl|tm|tn|to|tp|tr|tt|tv|tw|tz|ua|ug|uk|us|uy|uz|va|vc|ve|vg|vi|vn|vu|wf|ws|ye|yt|yu|za|zm|zw)/)(?:[^\\s()<>{}\\[\\]]+|\\([^\\s()]*?\\([^\\s()]+\\)[^\\s()]*?\\)|\\([^\\s]+?\\))+(?:\\([^\\s()]*?\\([^\\s()]+\\)[^\\s()]*?\\)|\\([^\\s]+?\\)|[^\\s`!()\\[\\]{};:'\".,<>?«»“”‘’])|(?:(?<!@)[a-z0-9]+(?:[.\\-][a-z0-9]+)*[.](?:com|net|org|edu|gov|mil|aero|asia|biz|cat|coop|info|int|jobs|mobi|museum|name|post|pro|tel|travel|xxx|ac|ad|ae|af|ag|ai|al|am|an|ao|aq|ar|as|at|au|aw|ax|az|ba|bb|bd|be|bf|bg|bh|bi|bj|bm|bn|bo|br|bs|bt|bv|bw|by|bz|ca|cc|cd|cf|cg|ch|ci|ck|cl|cm|cn|co|cr|cs|cu|cv|cx|cy|cz|dd|de|dj|dk|dm|do|dz|ec|ee|eg|eh|er|es|et|eu|fi|fj|fk|fm|fo|fr|ga|gb|gd|ge|gf|gg|gh|gi|gl|gm|gn|gp|gq|gr|gs|gt|gu|gw|gy|hk|hm|hn|hr|ht|hu|id|ie|il|im|in|io|iq|ir|is|it|je|jm|jo|jp|ke|kg|kh|ki|km|kn|kp|kr|kw|ky|kz|la|lb|lc|li|lk|lr|ls|lt|lu|lv|ly|ma|mc|md|me|mg|mh|mk|ml|mm|mn|mo|mp|mq|mr|ms|mt|mu|mv|mw|mx|my|mz|na|nc|ne|nf|ng|ni|nl|no|np|nr|nu|nz|om|pa|pe|pf|pg|ph|pk|pl|pm|pn|pr|ps|pt|pw|py|qa|re|ro|rs|ru|rw|sa|sb|sc|sd|se|sg|sh|si|sj|Ja|sk|sl|sm|sn|so|sr|ss|st|su|sv|sx|sy|sz|tc|td|tf|tg|th|tj|tk|tl|tm|tn|to|tp|tr|tt|tv|tw|tz|ua|ug|uk|us|uy|uz|va|vc|ve|vg|vi|vn|vu|wf|ws|ye|yt|yu|za|zm|zw)\\b/?(?!@)))\"\"\"\n",
        "    return re.sub(URL_PATTERN, 'xxurl', text)\n",
        "\n",
        "def replace_rep(text):\n",
        "    def _replace_rep(m):\n",
        "        c,cc = m.groups()\n",
        "        return f'{c}xxrep'\n",
        "    re_rep = re.compile(r'(\\S)(\\1{2,})')\n",
        "    return re_rep.sub(_replace_rep, text)\n",
        "\n",
        "def ungroup_emoji(toks):\n",
        "    res = []\n",
        "    for tok in toks:\n",
        "        if emoji.emoji_count(tok) == len(tok):\n",
        "            for char in tok:\n",
        "                res.append(char)\n",
        "        else:\n",
        "            res.append(tok)\n",
        "    return res\n",
        "\n",
        "def process_text(text):\n",
        "    #pre rules\n",
        "    res = text.lower().strip()\n",
        "    res = replace_url(res)\n",
        "    res = replace_rep(res)\n",
        "    \n",
        "    #tokenize\n",
        "    res = [word for word in word_tokenize(res) if word and not re.search(pattern=r\"\\s+\", string=word)]\n",
        "    \n",
        "    #post rules\n",
        "    res = ungroup_emoji(res)\n",
        "    \n",
        "    return res"
      ],
      "execution_count": 90,
      "outputs": []
    },
    {
      "cell_type": "code",
      "metadata": {
        "id": "t48We5SSxnPY"
      },
      "source": [
        "# let's do it again properly with proper sampling :)\n",
        "pos_df = df[df.targets == \"pos\"]\n",
        "neu_df = df[df.targets == \"neu\"]\n",
        "neg_df = df[df.targets== \"neg\"]"
      ],
      "execution_count": 91,
      "outputs": []
    },
    {
      "cell_type": "code",
      "metadata": {
        "colab": {
          "base_uri": "https://localhost:8080/",
          "height": 175
        },
        "id": "uk3qclYg2Pz3",
        "outputId": "7291fd18-ffc5-4dd5-843c-02298f186785"
      },
      "source": [
        "sentiment_df = pd.concat([neg_df, pos_df, neu_df])\n",
        "sentiment_df = sentiment_df.reset_index(drop=True)\n",
        "sentiment_df.groupby(\"targets\").features.describe()"
      ],
      "execution_count": 92,
      "outputs": [
        {
          "output_type": "execute_result",
          "data": {
            "text/html": [
              "<div>\n",
              "<style scoped>\n",
              "    .dataframe tbody tr th:only-of-type {\n",
              "        vertical-align: middle;\n",
              "    }\n",
              "\n",
              "    .dataframe tbody tr th {\n",
              "        vertical-align: top;\n",
              "    }\n",
              "\n",
              "    .dataframe thead th {\n",
              "        text-align: right;\n",
              "    }\n",
              "</style>\n",
              "<table border=\"1\" class=\"dataframe\">\n",
              "  <thead>\n",
              "    <tr style=\"text-align: right;\">\n",
              "      <th></th>\n",
              "      <th>count</th>\n",
              "      <th>unique</th>\n",
              "      <th>top</th>\n",
              "      <th>freq</th>\n",
              "    </tr>\n",
              "    <tr>\n",
              "      <th>targets</th>\n",
              "      <th></th>\n",
              "      <th></th>\n",
              "      <th></th>\n",
              "      <th></th>\n",
              "    </tr>\n",
              "  </thead>\n",
              "  <tbody>\n",
              "    <tr>\n",
              "      <th>neg</th>\n",
              "      <td>6140</td>\n",
              "      <td>6129</td>\n",
              "      <td>#ERROR!</td>\n",
              "      <td>12</td>\n",
              "    </tr>\n",
              "    <tr>\n",
              "      <th>neu</th>\n",
              "      <td>13105</td>\n",
              "      <td>13087</td>\n",
              "      <td>#ERROR!</td>\n",
              "      <td>19</td>\n",
              "    </tr>\n",
              "    <tr>\n",
              "      <th>pos</th>\n",
              "      <td>4300</td>\n",
              "      <td>4300</td>\n",
              "      <td>เลิศ!ชอบมากคร่ๅๅๅ</td>\n",
              "      <td>1</td>\n",
              "    </tr>\n",
              "  </tbody>\n",
              "</table>\n",
              "</div>"
            ],
            "text/plain": [
              "         count unique                top freq\n",
              "targets                                      \n",
              "neg       6140   6129            #ERROR!   12\n",
              "neu      13105  13087            #ERROR!   19\n",
              "pos       4300   4300  เลิศ!ชอบมากคร่ๅๅๅ    1"
            ]
          },
          "metadata": {},
          "execution_count": 92
        }
      ]
    },
    {
      "cell_type": "code",
      "metadata": {
        "id": "0WPzyb1l4Tne"
      },
      "source": [
        "sentiment_df['processed'] = sentiment_df.features.map(lambda x: '|'.join(process_text(x)))"
      ],
      "execution_count": 93,
      "outputs": []
    },
    {
      "cell_type": "code",
      "metadata": {
        "id": "e0NpsUdQ3ECr"
      },
      "source": [
        "# performing random hold-out method\n",
        "from sklearn.model_selection import train_test_split\n",
        "X_train, X_test, y_train, y_test = train_test_split(sentiment_df['processed'], sentiment_df.targets, test_size=0.20, random_state=42)"
      ],
      "execution_count": 94,
      "outputs": []
    },
    {
      "cell_type": "code",
      "metadata": {
        "colab": {
          "base_uri": "https://localhost:8080/"
        },
        "id": "CGcS7IFVBP9M",
        "outputId": "05020d2c-ac5b-4214-8eb1-41e29ae5b07b"
      },
      "source": [
        "X_train.head()"
      ],
      "execution_count": 97,
      "outputs": [
        {
          "output_type": "execute_result",
          "data": {
            "text/plain": [
              "177          มัน|คือ|ฝี|หนอง|xxrep|😨|#|เจริญอาหาร|มั้ย|ล่ะ\n",
              "3        ลิป|มัน|ของ|เเบร์น|mistine|ราคา|กลาง|ๆ|ไม่|แพง...\n",
              "17957                                       ครับ|เสี่ย|บอส\n",
              "16938    ทุกสิ่ง|อย่าง|ที่|พวก|เค้า|ต้าน|เรา|ก็|แค่|ประ...\n",
              "13996    จำนวน|speed|ของ|เกียร์|ไม่|ได้|บอ|กว่า|รถ|จะ|ต...\n",
              "Name: processed, dtype: object"
            ]
          },
          "metadata": {},
          "execution_count": 97
        }
      ]
    },
    {
      "cell_type": "code",
      "metadata": {
        "colab": {
          "base_uri": "https://localhost:8080/"
        },
        "id": "oWDfT9u3BTpg",
        "outputId": "22e1462b-331b-43b3-9372-ae63896cbe13"
      },
      "source": [
        "tfidf = TfidfVectorizer()\n",
        "tfidf_fit = tfidf.fit(sentiment_df['processed'])\n",
        "text_train = tfidf_fit.transform(X_train)\n",
        "text_valid = tfidf_fit.transform(X_test)\n",
        "text_train.shape, text_valid.shape"
      ],
      "execution_count": 103,
      "outputs": [
        {
          "output_type": "execute_result",
          "data": {
            "text/plain": [
              "((18836, 16257), (4709, 16257))"
            ]
          },
          "metadata": {},
          "execution_count": 103
        }
      ]
    },
    {
      "cell_type": "code",
      "metadata": {
        "colab": {
          "base_uri": "https://localhost:8080/"
        },
        "id": "Fn9fY_Zu3Kay",
        "outputId": "8cfa0275-e1f6-4110-cab5-ac537426f46f"
      },
      "source": [
        "score = cross_val_score( logistic, text_train, y_train, cv = 5).mean()\n",
        "score"
      ],
      "execution_count": 105,
      "outputs": [
        {
          "output_type": "execute_result",
          "data": {
            "text/plain": [
              "0.6956892518953004"
            ]
          },
          "metadata": {},
          "execution_count": 105
        }
      ]
    }
  ]
}